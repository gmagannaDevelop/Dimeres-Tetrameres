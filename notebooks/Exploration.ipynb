{
 "cells": [
  {
   "cell_type": "markdown",
   "id": "9ac42802",
   "metadata": {},
   "source": [
    "# Initial exploration"
   ]
  },
  {
   "cell_type": "code",
   "execution_count": 1,
   "id": "5e965517",
   "metadata": {},
   "outputs": [
    {
     "name": "stdout",
     "output_type": "stream",
     "text": [
      "/home/gml/Documents/Master/M1_BIBS/S2/DimerTetramer/notebooks\r\n"
     ]
    }
   ],
   "source": [
    "!pwd"
   ]
  },
  {
   "cell_type": "code",
   "execution_count": 2,
   "id": "763f03d0",
   "metadata": {},
   "outputs": [],
   "source": [
    "import sys\n",
    "sys.path.append(\"..\")"
   ]
  },
  {
   "cell_type": "code",
   "execution_count": 3,
   "id": "6838a180",
   "metadata": {},
   "outputs": [
    {
     "data": {
      "application/vnd.jupyter.widget-view+json": {
       "model_id": "1bfb2740af354feca6289aa1f3399109",
       "version_major": 2,
       "version_minor": 0
      },
      "text/plain": []
     },
     "metadata": {},
     "output_type": "display_data"
    }
   ],
   "source": [
    "import Bio.PDB as pdb\n",
    "import freesasa\n",
    "import nglview as nv"
   ]
  },
  {
   "cell_type": "code",
   "execution_count": 4,
   "id": "d7f62b2d",
   "metadata": {},
   "outputs": [],
   "source": [
    "from dimertetramer.utils.customobjs import (\n",
    "    Path as path,\n",
    "    ObjDict as odict\n",
    ")"
   ]
  },
  {
   "cell_type": "code",
   "execution_count": 5,
   "id": "57443951",
   "metadata": {},
   "outputs": [
    {
     "data": {
      "text/plain": [
       "PosixPath('..')"
      ]
     },
     "execution_count": 5,
     "metadata": {},
     "output_type": "execute_result"
    }
   ],
   "source": [
    "(proj_root := path(\"..\"))"
   ]
  },
  {
   "cell_type": "code",
   "execution_count": 6,
   "id": "fbe4a940",
   "metadata": {},
   "outputs": [
    {
     "data": {
      "text/plain": [
       "dict_keys(['pymol_sessions', 'Tetramers', 'Dim_Tet_interfaces', 'Levy_Nat08.pdf', 'Projet_DimersTetramers_BIBS_BISII21.pdf', 'Projet_dimers_tetramers_BISII2021.pdf', 'Dimers', 'couples_dimers_tetramers.txt'])"
      ]
     },
     "execution_count": 6,
     "metadata": {},
     "output_type": "execute_result"
    }
   ],
   "source": [
    "files = proj_root.here(\"assets\").dglob(\"*\")\n",
    "files.keys()"
   ]
  },
  {
   "cell_type": "code",
   "execution_count": 7,
   "id": "7552999f",
   "metadata": {},
   "outputs": [],
   "source": [
    "glob_dict = lambda x, y: { \n",
    "    key.replace(f\".{y}\", \"\"): value \n",
    "    for key, value in files[x].dglob(f\"*.{y}\").items()\n",
    "}"
   ]
  },
  {
   "cell_type": "code",
   "execution_count": 8,
   "id": "019c81c7",
   "metadata": {},
   "outputs": [],
   "source": [
    "dimer_files = glob_dict(\"Dimers\", \"pdb\")\n",
    "tetramer_files = glob_dict(\"Tetramers\", \"pdb\")\n",
    "interface_files = glob_dict(\"Dim_Tet_interfaces\", \"pdb\")"
   ]
  },
  {
   "cell_type": "code",
   "execution_count": 9,
   "id": "fd0e5bbd",
   "metadata": {},
   "outputs": [],
   "source": [
    "parse_pdb = (\n",
    "    lambda x: \n",
    "    pdb\n",
    "    .PDBParser(QUIET=True)\n",
    "    .get_structure(id = x.name.replace(\".pdb\", \"\"), file = x.abs )\n",
    ") # x doit être un fichier de type piestruct.utils.customobjs.Path"
   ]
  },
  {
   "cell_type": "code",
   "execution_count": 10,
   "id": "3d0138b4",
   "metadata": {},
   "outputs": [],
   "source": [
    "biop_dimers = odict({ \n",
    "    name:  parse_pdb(location) \n",
    "    for name, location in dimer_files.items()\n",
    "})"
   ]
  },
  {
   "cell_type": "code",
   "execution_count": 11,
   "id": "70b1aaa6",
   "metadata": {},
   "outputs": [],
   "source": [
    "structures_dimers = odict({ \n",
    "    name.replace: freesasa.Structure(location.abs) \n",
    "    for name, location in dimer_files.items() \n",
    "})"
   ]
  },
  {
   "cell_type": "code",
   "execution_count": 12,
   "id": "a2ef10a4",
   "metadata": {},
   "outputs": [],
   "source": [
    "x = [nv.show_biopython(struct) for struct in biop_dimers.values()]"
   ]
  },
  {
   "cell_type": "code",
   "execution_count": 13,
   "id": "f778227b",
   "metadata": {},
   "outputs": [],
   "source": [
    "#x[0]"
   ]
  },
  {
   "cell_type": "code",
   "execution_count": 14,
   "id": "29c1d2a7",
   "metadata": {},
   "outputs": [],
   "source": [
    "from dimertetramer.calculations.sasa import sasa_from_file"
   ]
  },
  {
   "cell_type": "code",
   "execution_count": 17,
   "id": "07c835ff",
   "metadata": {},
   "outputs": [],
   "source": [
    "x = sasa_from_file(dimer_files[\"1a3c_Dim\"])"
   ]
  },
  {
   "cell_type": "code",
   "execution_count": 19,
   "id": "fc1921e4",
   "metadata": {},
   "outputs": [
    {
     "data": {
      "text/plain": [
       "{'A': {'3': <freesasa.ResidueArea at 0x7fb6d805ef10>,\n",
       "  '4': <freesasa.ResidueArea at 0x7fb6d805ef40>,\n",
       "  '5': <freesasa.ResidueArea at 0x7fb6d805efa0>,\n",
       "  '6': <freesasa.ResidueArea at 0x7fb6d805eeb0>,\n",
       "  '7': <freesasa.ResidueArea at 0x7fb6d805ec70>,\n",
       "  '8': <freesasa.ResidueArea at 0x7fb6d805ef70>,\n",
       "  '9': <freesasa.ResidueArea at 0x7fb6d805ed30>,\n",
       "  '10': <freesasa.ResidueArea at 0x7fb6d805efd0>,\n",
       "  '11': <freesasa.ResidueArea at 0x7fb6d805ed00>,\n",
       "  '12': <freesasa.ResidueArea at 0x7fb6d805ea30>,\n",
       "  '13': <freesasa.ResidueArea at 0x7fb6d805edf0>,\n",
       "  '14': <freesasa.ResidueArea at 0x7fb6d805ee20>,\n",
       "  '15': <freesasa.ResidueArea at 0x7fb6d805eee0>,\n",
       "  '16': <freesasa.ResidueArea at 0x7fb6f461fa00>,\n",
       "  '17': <freesasa.ResidueArea at 0x7fb6f461fdf0>,\n",
       "  '18': <freesasa.ResidueArea at 0x7fb6f461f2b0>,\n",
       "  '19': <freesasa.ResidueArea at 0x7fb6f461fd90>,\n",
       "  '20': <freesasa.ResidueArea at 0x7fb6f461fac0>,\n",
       "  '21': <freesasa.ResidueArea at 0x7fb6f461fb80>,\n",
       "  '22': <freesasa.ResidueArea at 0x7fb6f461f400>,\n",
       "  '23': <freesasa.ResidueArea at 0x7fb6f461fe50>,\n",
       "  '24': <freesasa.ResidueArea at 0x7fb6d806c040>,\n",
       "  '25': <freesasa.ResidueArea at 0x7fb6d806c070>,\n",
       "  '26': <freesasa.ResidueArea at 0x7fb6d806c0a0>,\n",
       "  '27': <freesasa.ResidueArea at 0x7fb6d806c0d0>,\n",
       "  '28': <freesasa.ResidueArea at 0x7fb6d806c100>,\n",
       "  '29': <freesasa.ResidueArea at 0x7fb6d806c130>,\n",
       "  '34': <freesasa.ResidueArea at 0x7fb6d806c160>,\n",
       "  '35': <freesasa.ResidueArea at 0x7fb6d806c190>,\n",
       "  '36': <freesasa.ResidueArea at 0x7fb6d806c1c0>,\n",
       "  '37': <freesasa.ResidueArea at 0x7fb6d806c1f0>,\n",
       "  '38': <freesasa.ResidueArea at 0x7fb6d806c220>,\n",
       "  '39': <freesasa.ResidueArea at 0x7fb6d806c250>,\n",
       "  '40': <freesasa.ResidueArea at 0x7fb6d806c280>,\n",
       "  '41': <freesasa.ResidueArea at 0x7fb6d806c2b0>,\n",
       "  '42': <freesasa.ResidueArea at 0x7fb6d806c2e0>,\n",
       "  '43': <freesasa.ResidueArea at 0x7fb6d806c310>,\n",
       "  '44': <freesasa.ResidueArea at 0x7fb6d806c340>,\n",
       "  '45': <freesasa.ResidueArea at 0x7fb6d806c370>,\n",
       "  '46': <freesasa.ResidueArea at 0x7fb6d806c3a0>,\n",
       "  '47': <freesasa.ResidueArea at 0x7fb6d806c3d0>,\n",
       "  '48': <freesasa.ResidueArea at 0x7fb6d806c400>,\n",
       "  '49': <freesasa.ResidueArea at 0x7fb6d806c430>,\n",
       "  '50': <freesasa.ResidueArea at 0x7fb6d806c460>,\n",
       "  '51': <freesasa.ResidueArea at 0x7fb6d806c490>,\n",
       "  '52': <freesasa.ResidueArea at 0x7fb6d806c4c0>,\n",
       "  '53': <freesasa.ResidueArea at 0x7fb6d806c4f0>,\n",
       "  '54': <freesasa.ResidueArea at 0x7fb6d806c520>,\n",
       "  '55': <freesasa.ResidueArea at 0x7fb6d806c550>,\n",
       "  '56': <freesasa.ResidueArea at 0x7fb6d806c580>,\n",
       "  '57': <freesasa.ResidueArea at 0x7fb6d806c5b0>,\n",
       "  '58': <freesasa.ResidueArea at 0x7fb6d806c5e0>,\n",
       "  '59': <freesasa.ResidueArea at 0x7fb6d806c610>,\n",
       "  '60': <freesasa.ResidueArea at 0x7fb6d806cc70>,\n",
       "  '61': <freesasa.ResidueArea at 0x7fb6d806cbe0>,\n",
       "  '62': <freesasa.ResidueArea at 0x7fb6d806c6a0>,\n",
       "  '63': <freesasa.ResidueArea at 0x7fb6d806c6d0>,\n",
       "  '64': <freesasa.ResidueArea at 0x7fb6d806c700>,\n",
       "  '65': <freesasa.ResidueArea at 0x7fb6d806c640>,\n",
       "  '66': <freesasa.ResidueArea at 0x7fb6d806c670>,\n",
       "  '67': <freesasa.ResidueArea at 0x7fb6b87ee040>,\n",
       "  '68': <freesasa.ResidueArea at 0x7fb6b87ee070>,\n",
       "  '69': <freesasa.ResidueArea at 0x7fb6b87ee0a0>,\n",
       "  '70': <freesasa.ResidueArea at 0x7fb6b87ee0d0>,\n",
       "  '71': <freesasa.ResidueArea at 0x7fb6b87ee100>,\n",
       "  '72': <freesasa.ResidueArea at 0x7fb6b87ee130>,\n",
       "  '73': <freesasa.ResidueArea at 0x7fb6b87ee160>,\n",
       "  '82': <freesasa.ResidueArea at 0x7fb6b87ee190>,\n",
       "  '83': <freesasa.ResidueArea at 0x7fb6b87ee1c0>,\n",
       "  '84': <freesasa.ResidueArea at 0x7fb6b87ee1f0>,\n",
       "  '85': <freesasa.ResidueArea at 0x7fb6b87ee220>,\n",
       "  '86': <freesasa.ResidueArea at 0x7fb6b87ee250>,\n",
       "  '87': <freesasa.ResidueArea at 0x7fb6b87ee280>,\n",
       "  '88': <freesasa.ResidueArea at 0x7fb6b87ee2b0>,\n",
       "  '89': <freesasa.ResidueArea at 0x7fb6b87ee2e0>,\n",
       "  '90': <freesasa.ResidueArea at 0x7fb6b87ee310>,\n",
       "  '91': <freesasa.ResidueArea at 0x7fb6b87ee340>,\n",
       "  '92': <freesasa.ResidueArea at 0x7fb6b87ee370>,\n",
       "  '93': <freesasa.ResidueArea at 0x7fb6b87ee3a0>,\n",
       "  '94': <freesasa.ResidueArea at 0x7fb6b87ee3d0>,\n",
       "  '95': <freesasa.ResidueArea at 0x7fb6b87ee400>,\n",
       "  '96': <freesasa.ResidueArea at 0x7fb6b87ee430>,\n",
       "  '97': <freesasa.ResidueArea at 0x7fb6b87ee460>,\n",
       "  '98': <freesasa.ResidueArea at 0x7fb6b87ee490>,\n",
       "  '99': <freesasa.ResidueArea at 0x7fb6b87ee4c0>,\n",
       "  '100': <freesasa.ResidueArea at 0x7fb6b87ee4f0>,\n",
       "  '101': <freesasa.ResidueArea at 0x7fb6b87ee520>,\n",
       "  '102': <freesasa.ResidueArea at 0x7fb6b87ee550>,\n",
       "  '103': <freesasa.ResidueArea at 0x7fb6b87ee580>,\n",
       "  '104': <freesasa.ResidueArea at 0x7fb6b87ee5b0>,\n",
       "  '105': <freesasa.ResidueArea at 0x7fb6b87ee5e0>,\n",
       "  '106': <freesasa.ResidueArea at 0x7fb6b87ee610>,\n",
       "  '107': <freesasa.ResidueArea at 0x7fb6b87ee640>,\n",
       "  '108': <freesasa.ResidueArea at 0x7fb6b87ee670>,\n",
       "  '109': <freesasa.ResidueArea at 0x7fb6b87ee6a0>,\n",
       "  '110': <freesasa.ResidueArea at 0x7fb6b87ee6d0>,\n",
       "  '111': <freesasa.ResidueArea at 0x7fb6b87ee700>,\n",
       "  '112': <freesasa.ResidueArea at 0x7fb6b87ee730>,\n",
       "  '113': <freesasa.ResidueArea at 0x7fb6b87ee760>,\n",
       "  '114': <freesasa.ResidueArea at 0x7fb6b87ee790>,\n",
       "  '115': <freesasa.ResidueArea at 0x7fb6b87ee7c0>,\n",
       "  '116': <freesasa.ResidueArea at 0x7fb6b87ee7f0>,\n",
       "  '117': <freesasa.ResidueArea at 0x7fb6b87ee820>,\n",
       "  '118': <freesasa.ResidueArea at 0x7fb6b87ee850>,\n",
       "  '119': <freesasa.ResidueArea at 0x7fb6b87ee880>,\n",
       "  '120': <freesasa.ResidueArea at 0x7fb6b87ee8b0>,\n",
       "  '121': <freesasa.ResidueArea at 0x7fb6b87ee8e0>,\n",
       "  '122': <freesasa.ResidueArea at 0x7fb6b87ee910>,\n",
       "  '123': <freesasa.ResidueArea at 0x7fb6b87ee940>,\n",
       "  '124': <freesasa.ResidueArea at 0x7fb6b87ee970>,\n",
       "  '125': <freesasa.ResidueArea at 0x7fb6b87ee9a0>,\n",
       "  '126': <freesasa.ResidueArea at 0x7fb6b87ee9d0>,\n",
       "  '127': <freesasa.ResidueArea at 0x7fb6b87eea00>,\n",
       "  '128': <freesasa.ResidueArea at 0x7fb6b87eea30>,\n",
       "  '129': <freesasa.ResidueArea at 0x7fb6b87eea60>,\n",
       "  '130': <freesasa.ResidueArea at 0x7fb6b87eea90>,\n",
       "  '131': <freesasa.ResidueArea at 0x7fb6b87eeac0>,\n",
       "  '132': <freesasa.ResidueArea at 0x7fb6b87eeaf0>,\n",
       "  '133': <freesasa.ResidueArea at 0x7fb6b87eeb20>,\n",
       "  '134': <freesasa.ResidueArea at 0x7fb6b87eeb50>,\n",
       "  '135': <freesasa.ResidueArea at 0x7fb6b87eeb80>,\n",
       "  '136': <freesasa.ResidueArea at 0x7fb6b87eebb0>,\n",
       "  '137': <freesasa.ResidueArea at 0x7fb6b87eebe0>,\n",
       "  '138': <freesasa.ResidueArea at 0x7fb6b87eec10>,\n",
       "  '139': <freesasa.ResidueArea at 0x7fb6b87eec40>,\n",
       "  '140': <freesasa.ResidueArea at 0x7fb6b87eec70>,\n",
       "  '141': <freesasa.ResidueArea at 0x7fb6b87eeca0>,\n",
       "  '142': <freesasa.ResidueArea at 0x7fb6b87eecd0>,\n",
       "  '143': <freesasa.ResidueArea at 0x7fb6b87eed00>,\n",
       "  '144': <freesasa.ResidueArea at 0x7fb6b87eed30>,\n",
       "  '145': <freesasa.ResidueArea at 0x7fb6b87eed60>,\n",
       "  '146': <freesasa.ResidueArea at 0x7fb6b87eed90>,\n",
       "  '147': <freesasa.ResidueArea at 0x7fb6b87eedc0>,\n",
       "  '148': <freesasa.ResidueArea at 0x7fb6b87eedf0>,\n",
       "  '149': <freesasa.ResidueArea at 0x7fb6b87eee20>,\n",
       "  '150': <freesasa.ResidueArea at 0x7fb6b87eee50>,\n",
       "  '151': <freesasa.ResidueArea at 0x7fb6b87eee80>,\n",
       "  '152': <freesasa.ResidueArea at 0x7fb6b87eeeb0>,\n",
       "  '153': <freesasa.ResidueArea at 0x7fb6b87eeee0>,\n",
       "  '154': <freesasa.ResidueArea at 0x7fb6b87eef10>,\n",
       "  '155': <freesasa.ResidueArea at 0x7fb6b87eef40>,\n",
       "  '156': <freesasa.ResidueArea at 0x7fb6b87eef70>,\n",
       "  '157': <freesasa.ResidueArea at 0x7fb6b87eefa0>,\n",
       "  '158': <freesasa.ResidueArea at 0x7fb6b87eefd0>,\n",
       "  '159': <freesasa.ResidueArea at 0x7fb6b877d040>,\n",
       "  '160': <freesasa.ResidueArea at 0x7fb6b877d070>,\n",
       "  '161': <freesasa.ResidueArea at 0x7fb6b877d0a0>,\n",
       "  '162': <freesasa.ResidueArea at 0x7fb6b877d0d0>,\n",
       "  '163': <freesasa.ResidueArea at 0x7fb6b877d100>,\n",
       "  '164': <freesasa.ResidueArea at 0x7fb6b877d130>,\n",
       "  '165': <freesasa.ResidueArea at 0x7fb6b877d160>,\n",
       "  '166': <freesasa.ResidueArea at 0x7fb6b877d190>,\n",
       "  '167': <freesasa.ResidueArea at 0x7fb6b877d1c0>,\n",
       "  '168': <freesasa.ResidueArea at 0x7fb6b877d1f0>,\n",
       "  '169': <freesasa.ResidueArea at 0x7fb6b877d220>,\n",
       "  '170': <freesasa.ResidueArea at 0x7fb6b877d250>,\n",
       "  '171': <freesasa.ResidueArea at 0x7fb6b877d280>,\n",
       "  '172': <freesasa.ResidueArea at 0x7fb6b877d2b0>,\n",
       "  '173': <freesasa.ResidueArea at 0x7fb6b877d2e0>,\n",
       "  '174': <freesasa.ResidueArea at 0x7fb6b877d310>,\n",
       "  '175': <freesasa.ResidueArea at 0x7fb6b877d340>,\n",
       "  '176': <freesasa.ResidueArea at 0x7fb6b877d370>,\n",
       "  '177': <freesasa.ResidueArea at 0x7fb6b877d3a0>,\n",
       "  '178': <freesasa.ResidueArea at 0x7fb6b877d3d0>,\n",
       "  '179': <freesasa.ResidueArea at 0x7fb6b877d400>,\n",
       "  '180': <freesasa.ResidueArea at 0x7fb6b877d430>},\n",
       " 'B': {'3': <freesasa.ResidueArea at 0x7fb6b877d460>,\n",
       "  '4': <freesasa.ResidueArea at 0x7fb6b877d490>,\n",
       "  '5': <freesasa.ResidueArea at 0x7fb6b877d4c0>,\n",
       "  '6': <freesasa.ResidueArea at 0x7fb6b877d4f0>,\n",
       "  '7': <freesasa.ResidueArea at 0x7fb6b877d520>,\n",
       "  '8': <freesasa.ResidueArea at 0x7fb6b877d550>,\n",
       "  '9': <freesasa.ResidueArea at 0x7fb6b877d580>,\n",
       "  '10': <freesasa.ResidueArea at 0x7fb6b877d5b0>,\n",
       "  '11': <freesasa.ResidueArea at 0x7fb6b877d5e0>,\n",
       "  '12': <freesasa.ResidueArea at 0x7fb6b877d610>,\n",
       "  '13': <freesasa.ResidueArea at 0x7fb6b877d640>,\n",
       "  '14': <freesasa.ResidueArea at 0x7fb6b877d670>,\n",
       "  '15': <freesasa.ResidueArea at 0x7fb6b877d6a0>,\n",
       "  '16': <freesasa.ResidueArea at 0x7fb6b877d6d0>,\n",
       "  '17': <freesasa.ResidueArea at 0x7fb6b877d700>,\n",
       "  '18': <freesasa.ResidueArea at 0x7fb6b877d730>,\n",
       "  '19': <freesasa.ResidueArea at 0x7fb6b877d760>,\n",
       "  '20': <freesasa.ResidueArea at 0x7fb6b877d790>,\n",
       "  '21': <freesasa.ResidueArea at 0x7fb6b877d7c0>,\n",
       "  '22': <freesasa.ResidueArea at 0x7fb6b877d7f0>,\n",
       "  '23': <freesasa.ResidueArea at 0x7fb6b877d820>,\n",
       "  '24': <freesasa.ResidueArea at 0x7fb6b877d850>,\n",
       "  '25': <freesasa.ResidueArea at 0x7fb6b877d880>,\n",
       "  '26': <freesasa.ResidueArea at 0x7fb6b877d8b0>,\n",
       "  '27': <freesasa.ResidueArea at 0x7fb6b877d8e0>,\n",
       "  '28': <freesasa.ResidueArea at 0x7fb6b877d910>,\n",
       "  '29': <freesasa.ResidueArea at 0x7fb6b877d940>,\n",
       "  '34': <freesasa.ResidueArea at 0x7fb6b877d970>,\n",
       "  '35': <freesasa.ResidueArea at 0x7fb6b877d9a0>,\n",
       "  '36': <freesasa.ResidueArea at 0x7fb6b877d9d0>,\n",
       "  '37': <freesasa.ResidueArea at 0x7fb6b877da00>,\n",
       "  '38': <freesasa.ResidueArea at 0x7fb6b877da30>,\n",
       "  '39': <freesasa.ResidueArea at 0x7fb6b877da60>,\n",
       "  '40': <freesasa.ResidueArea at 0x7fb6b877da90>,\n",
       "  '41': <freesasa.ResidueArea at 0x7fb6b877dac0>,\n",
       "  '42': <freesasa.ResidueArea at 0x7fb6b877daf0>,\n",
       "  '43': <freesasa.ResidueArea at 0x7fb6b877db20>,\n",
       "  '44': <freesasa.ResidueArea at 0x7fb6b877db50>,\n",
       "  '45': <freesasa.ResidueArea at 0x7fb6b877db80>,\n",
       "  '46': <freesasa.ResidueArea at 0x7fb6b877dbb0>,\n",
       "  '47': <freesasa.ResidueArea at 0x7fb6b877dbe0>,\n",
       "  '48': <freesasa.ResidueArea at 0x7fb6b877dc10>,\n",
       "  '49': <freesasa.ResidueArea at 0x7fb6b877dc40>,\n",
       "  '50': <freesasa.ResidueArea at 0x7fb6b877dc70>,\n",
       "  '51': <freesasa.ResidueArea at 0x7fb6b877dca0>,\n",
       "  '52': <freesasa.ResidueArea at 0x7fb6b877dcd0>,\n",
       "  '53': <freesasa.ResidueArea at 0x7fb6b877dd00>,\n",
       "  '54': <freesasa.ResidueArea at 0x7fb6b877dd30>,\n",
       "  '55': <freesasa.ResidueArea at 0x7fb6b877dd60>,\n",
       "  '56': <freesasa.ResidueArea at 0x7fb6b877dd90>,\n",
       "  '57': <freesasa.ResidueArea at 0x7fb6b877ddc0>,\n",
       "  '58': <freesasa.ResidueArea at 0x7fb6b877ddf0>,\n",
       "  '59': <freesasa.ResidueArea at 0x7fb6b877de20>,\n",
       "  '60': <freesasa.ResidueArea at 0x7fb6b877de50>,\n",
       "  '61': <freesasa.ResidueArea at 0x7fb6b877de80>,\n",
       "  '62': <freesasa.ResidueArea at 0x7fb6b877deb0>,\n",
       "  '63': <freesasa.ResidueArea at 0x7fb6b877dee0>,\n",
       "  '64': <freesasa.ResidueArea at 0x7fb6b877df10>,\n",
       "  '65': <freesasa.ResidueArea at 0x7fb6b877df40>,\n",
       "  '66': <freesasa.ResidueArea at 0x7fb6b877df70>,\n",
       "  '67': <freesasa.ResidueArea at 0x7fb6b877dfa0>,\n",
       "  '68': <freesasa.ResidueArea at 0x7fb6b877dfd0>,\n",
       "  '69': <freesasa.ResidueArea at 0x7fb6b878c040>,\n",
       "  '70': <freesasa.ResidueArea at 0x7fb6b878c070>,\n",
       "  '71': <freesasa.ResidueArea at 0x7fb6b878c0a0>,\n",
       "  '72': <freesasa.ResidueArea at 0x7fb6b878c0d0>,\n",
       "  '73': <freesasa.ResidueArea at 0x7fb6b878c100>,\n",
       "  '82': <freesasa.ResidueArea at 0x7fb6b878c130>,\n",
       "  '83': <freesasa.ResidueArea at 0x7fb6b878c160>,\n",
       "  '84': <freesasa.ResidueArea at 0x7fb6b878c190>,\n",
       "  '85': <freesasa.ResidueArea at 0x7fb6b878c1c0>,\n",
       "  '86': <freesasa.ResidueArea at 0x7fb6b878c1f0>,\n",
       "  '87': <freesasa.ResidueArea at 0x7fb6b878c220>,\n",
       "  '88': <freesasa.ResidueArea at 0x7fb6b878c250>,\n",
       "  '89': <freesasa.ResidueArea at 0x7fb6b878c280>,\n",
       "  '90': <freesasa.ResidueArea at 0x7fb6b878c2b0>,\n",
       "  '91': <freesasa.ResidueArea at 0x7fb6b878c2e0>,\n",
       "  '92': <freesasa.ResidueArea at 0x7fb6b878c310>,\n",
       "  '93': <freesasa.ResidueArea at 0x7fb6b878c340>,\n",
       "  '94': <freesasa.ResidueArea at 0x7fb6b878c370>,\n",
       "  '95': <freesasa.ResidueArea at 0x7fb6b878c3a0>,\n",
       "  '96': <freesasa.ResidueArea at 0x7fb6b878c3d0>,\n",
       "  '97': <freesasa.ResidueArea at 0x7fb6b878c400>,\n",
       "  '98': <freesasa.ResidueArea at 0x7fb6b878c430>,\n",
       "  '99': <freesasa.ResidueArea at 0x7fb6b878c460>,\n",
       "  '100': <freesasa.ResidueArea at 0x7fb6b878c490>,\n",
       "  '101': <freesasa.ResidueArea at 0x7fb6b878c4c0>,\n",
       "  '102': <freesasa.ResidueArea at 0x7fb6b878c4f0>,\n",
       "  '103': <freesasa.ResidueArea at 0x7fb6b878c520>,\n",
       "  '104': <freesasa.ResidueArea at 0x7fb6b878c550>,\n",
       "  '105': <freesasa.ResidueArea at 0x7fb6b878c580>,\n",
       "  '106': <freesasa.ResidueArea at 0x7fb6b878c5b0>,\n",
       "  '107': <freesasa.ResidueArea at 0x7fb6b878c5e0>,\n",
       "  '108': <freesasa.ResidueArea at 0x7fb6b878c610>,\n",
       "  '109': <freesasa.ResidueArea at 0x7fb6b878c640>,\n",
       "  '110': <freesasa.ResidueArea at 0x7fb6b878c670>,\n",
       "  '111': <freesasa.ResidueArea at 0x7fb6b878c6a0>,\n",
       "  '112': <freesasa.ResidueArea at 0x7fb6b878c6d0>,\n",
       "  '113': <freesasa.ResidueArea at 0x7fb6b878c700>,\n",
       "  '114': <freesasa.ResidueArea at 0x7fb6b878c730>,\n",
       "  '115': <freesasa.ResidueArea at 0x7fb6b878c760>,\n",
       "  '116': <freesasa.ResidueArea at 0x7fb6b878c790>,\n",
       "  '117': <freesasa.ResidueArea at 0x7fb6b878c7c0>,\n",
       "  '118': <freesasa.ResidueArea at 0x7fb6b878c7f0>,\n",
       "  '119': <freesasa.ResidueArea at 0x7fb6b878c820>,\n",
       "  '120': <freesasa.ResidueArea at 0x7fb6b878c850>,\n",
       "  '121': <freesasa.ResidueArea at 0x7fb6b878c880>,\n",
       "  '122': <freesasa.ResidueArea at 0x7fb6b878c8b0>,\n",
       "  '123': <freesasa.ResidueArea at 0x7fb6b878c8e0>,\n",
       "  '124': <freesasa.ResidueArea at 0x7fb6b878c910>,\n",
       "  '125': <freesasa.ResidueArea at 0x7fb6b878c940>,\n",
       "  '126': <freesasa.ResidueArea at 0x7fb6b878c970>,\n",
       "  '127': <freesasa.ResidueArea at 0x7fb6b878c9a0>,\n",
       "  '128': <freesasa.ResidueArea at 0x7fb6b878c9d0>,\n",
       "  '129': <freesasa.ResidueArea at 0x7fb6b878ca00>,\n",
       "  '130': <freesasa.ResidueArea at 0x7fb6b878ca30>,\n",
       "  '131': <freesasa.ResidueArea at 0x7fb6b878ca60>,\n",
       "  '132': <freesasa.ResidueArea at 0x7fb6b878ca90>,\n",
       "  '133': <freesasa.ResidueArea at 0x7fb6b878cac0>,\n",
       "  '134': <freesasa.ResidueArea at 0x7fb6b878caf0>,\n",
       "  '135': <freesasa.ResidueArea at 0x7fb6b878cb20>,\n",
       "  '136': <freesasa.ResidueArea at 0x7fb6b878cb50>,\n",
       "  '137': <freesasa.ResidueArea at 0x7fb6b878cb80>,\n",
       "  '138': <freesasa.ResidueArea at 0x7fb6b878cbb0>,\n",
       "  '139': <freesasa.ResidueArea at 0x7fb6b878cbe0>,\n",
       "  '140': <freesasa.ResidueArea at 0x7fb6b878cc10>,\n",
       "  '141': <freesasa.ResidueArea at 0x7fb6b878cc40>,\n",
       "  '142': <freesasa.ResidueArea at 0x7fb6b878cc70>,\n",
       "  '143': <freesasa.ResidueArea at 0x7fb6b878cca0>,\n",
       "  '144': <freesasa.ResidueArea at 0x7fb6b878ccd0>,\n",
       "  '145': <freesasa.ResidueArea at 0x7fb6b878cd00>,\n",
       "  '146': <freesasa.ResidueArea at 0x7fb6b878cd30>,\n",
       "  '147': <freesasa.ResidueArea at 0x7fb6b878cd60>,\n",
       "  '148': <freesasa.ResidueArea at 0x7fb6b878cd90>,\n",
       "  '149': <freesasa.ResidueArea at 0x7fb6b878cdc0>,\n",
       "  '150': <freesasa.ResidueArea at 0x7fb6b878cdf0>,\n",
       "  '151': <freesasa.ResidueArea at 0x7fb6b878ce20>,\n",
       "  '152': <freesasa.ResidueArea at 0x7fb6b878ce50>,\n",
       "  '153': <freesasa.ResidueArea at 0x7fb6b878ce80>,\n",
       "  '154': <freesasa.ResidueArea at 0x7fb6b878ceb0>,\n",
       "  '155': <freesasa.ResidueArea at 0x7fb6b878cee0>,\n",
       "  '156': <freesasa.ResidueArea at 0x7fb6b878cf10>,\n",
       "  '157': <freesasa.ResidueArea at 0x7fb6b878cf40>,\n",
       "  '158': <freesasa.ResidueArea at 0x7fb6b878cf70>,\n",
       "  '159': <freesasa.ResidueArea at 0x7fb6b878cfa0>,\n",
       "  '160': <freesasa.ResidueArea at 0x7fb6b878cfd0>,\n",
       "  '161': <freesasa.ResidueArea at 0x7fb6b879c040>,\n",
       "  '162': <freesasa.ResidueArea at 0x7fb6b879c070>,\n",
       "  '163': <freesasa.ResidueArea at 0x7fb6b879c0a0>,\n",
       "  '164': <freesasa.ResidueArea at 0x7fb6b879c0d0>,\n",
       "  '165': <freesasa.ResidueArea at 0x7fb6b879c100>,\n",
       "  '166': <freesasa.ResidueArea at 0x7fb6b879c130>,\n",
       "  '167': <freesasa.ResidueArea at 0x7fb6b879c160>,\n",
       "  '168': <freesasa.ResidueArea at 0x7fb6b879c190>,\n",
       "  '169': <freesasa.ResidueArea at 0x7fb6b879c1c0>,\n",
       "  '170': <freesasa.ResidueArea at 0x7fb6b879c1f0>,\n",
       "  '171': <freesasa.ResidueArea at 0x7fb6b879c220>,\n",
       "  '172': <freesasa.ResidueArea at 0x7fb6b879c250>,\n",
       "  '173': <freesasa.ResidueArea at 0x7fb6b879c280>,\n",
       "  '174': <freesasa.ResidueArea at 0x7fb6b879c2b0>,\n",
       "  '175': <freesasa.ResidueArea at 0x7fb6b879c2e0>,\n",
       "  '176': <freesasa.ResidueArea at 0x7fb6b879c310>,\n",
       "  '177': <freesasa.ResidueArea at 0x7fb6b879c340>,\n",
       "  '178': <freesasa.ResidueArea at 0x7fb6b879c370>,\n",
       "  '179': <freesasa.ResidueArea at 0x7fb6b879c3a0>,\n",
       "  '180': <freesasa.ResidueArea at 0x7fb6b879c3d0>}}"
      ]
     },
     "execution_count": 19,
     "metadata": {},
     "output_type": "execute_result"
    }
   ],
   "source": [
    "x.residueAreas()"
   ]
  },
  {
   "cell_type": "code",
   "execution_count": 16,
   "id": "3358ff00",
   "metadata": {},
   "outputs": [],
   "source": [
    "#dir(biop_dimers['1f89_Dim'])"
   ]
  },
  {
   "cell_type": "code",
   "execution_count": null,
   "id": "a634c52f",
   "metadata": {},
   "outputs": [],
   "source": []
  }
 ],
 "metadata": {
  "kernelspec": {
   "display_name": "Python 3",
   "language": "python",
   "name": "python3"
  },
  "language_info": {
   "codemirror_mode": {
    "name": "ipython",
    "version": 3
   },
   "file_extension": ".py",
   "mimetype": "text/x-python",
   "name": "python",
   "nbconvert_exporter": "python",
   "pygments_lexer": "ipython3",
   "version": "3.8.6"
  }
 },
 "nbformat": 4,
 "nbformat_minor": 5
}
